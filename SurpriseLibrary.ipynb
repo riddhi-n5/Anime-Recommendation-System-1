{
  "nbformat": 4,
  "nbformat_minor": 0,
  "metadata": {
    "colab": {
      "provenance": []
    },
    "kernelspec": {
      "name": "python3",
      "display_name": "Python 3"
    },
    "language_info": {
      "name": "python"
    }
  },
  "cells": [
    {
      "cell_type": "code",
      "execution_count": 1,
      "metadata": {
        "colab": {
          "base_uri": "https://localhost:8080/"
        },
        "id": "4CqYqLMUNqha",
        "outputId": "313d6ed4-007d-47ad-ba58-9616bba33096"
      },
      "outputs": [
        {
          "output_type": "stream",
          "name": "stdout",
          "text": [
            "Mounted at /content/drive\n"
          ]
        }
      ],
      "source": [
        "from google.colab import drive\n",
        "drive.mount('/content/drive')"
      ]
    },
    {
      "cell_type": "code",
      "source": [
        "import pandas as pd\n",
        "import numpy as np\n",
        "import matplotlib.pyplot as plt\n",
        "import seaborn as sns\n",
        "!pip install scikit-surprise\n",
        "from surprise import KNNWithMeans\n",
        "from surprise import Dataset\n",
        "from surprise import accuracy\n",
        "from surprise import Reader\n",
        "from surprise import SVD\n",
        "import os\n",
        "from surprise.model_selection import GridSearchCV\n",
        "from surprise.model_selection import train_test_split"
      ],
      "metadata": {
        "colab": {
          "base_uri": "https://localhost:8080/"
        },
        "id": "jL1tN-adNysK",
        "outputId": "2c0f5e7c-ce10-48ce-92ad-5a878542003a"
      },
      "execution_count": 2,
      "outputs": [
        {
          "output_type": "stream",
          "name": "stdout",
          "text": [
            "Looking in indexes: https://pypi.org/simple, https://us-python.pkg.dev/colab-wheels/public/simple/\n",
            "Collecting scikit-surprise\n",
            "  Downloading scikit-surprise-1.1.3.tar.gz (771 kB)\n",
            "\u001b[K     |████████████████████████████████| 771 kB 12.7 MB/s \n",
            "\u001b[?25hRequirement already satisfied: joblib>=1.0.0 in /usr/local/lib/python3.8/dist-packages (from scikit-surprise) (1.2.0)\n",
            "Requirement already satisfied: numpy>=1.17.3 in /usr/local/lib/python3.8/dist-packages (from scikit-surprise) (1.21.6)\n",
            "Requirement already satisfied: scipy>=1.3.2 in /usr/local/lib/python3.8/dist-packages (from scikit-surprise) (1.7.3)\n",
            "Building wheels for collected packages: scikit-surprise\n",
            "  Building wheel for scikit-surprise (setup.py) ... \u001b[?25l\u001b[?25hdone\n",
            "  Created wheel for scikit-surprise: filename=scikit_surprise-1.1.3-cp38-cp38-linux_x86_64.whl size=2626511 sha256=82db5d519a900e13a22bba1e45ab4859a2afaf8d0005fb32da42b3562998fa1e\n",
            "  Stored in directory: /root/.cache/pip/wheels/af/db/86/2c18183a80ba05da35bf0fb7417aac5cddbd93bcb1b92fd3ea\n",
            "Successfully built scikit-surprise\n",
            "Installing collected packages: scikit-surprise\n",
            "Successfully installed scikit-surprise-1.1.3\n"
          ]
        }
      ]
    },
    {
      "cell_type": "code",
      "source": [
        "anime_df = pd.read_csv(\"/content/drive/MyDrive/anime.csv\")\n",
        "rating_df = pd.read_csv(\"/content/drive/MyDrive/rating.csv\")"
      ],
      "metadata": {
        "id": "0zO60PwoNyo1"
      },
      "execution_count": 3,
      "outputs": []
    },
    {
      "cell_type": "code",
      "source": [
        "rating_df.loc[rating_df.rating == -1, 'rating'] = np.NaN\n",
        "rating_df.head()"
      ],
      "metadata": {
        "colab": {
          "base_uri": "https://localhost:8080/",
          "height": 206
        },
        "id": "Sd7tHD7xNyms",
        "outputId": "8a9f73fe-7a6b-48ea-cb6c-adeeb13d7d5f"
      },
      "execution_count": 4,
      "outputs": [
        {
          "output_type": "execute_result",
          "data": {
            "text/plain": [
              "   user_id  anime_id  rating\n",
              "0        1        20     NaN\n",
              "1        1        24     NaN\n",
              "2        1        79     NaN\n",
              "3        1       226     NaN\n",
              "4        1       241     NaN"
            ],
            "text/html": [
              "\n",
              "  <div id=\"df-1558bf1f-29ec-42ba-8181-bc05dab743b8\">\n",
              "    <div class=\"colab-df-container\">\n",
              "      <div>\n",
              "<style scoped>\n",
              "    .dataframe tbody tr th:only-of-type {\n",
              "        vertical-align: middle;\n",
              "    }\n",
              "\n",
              "    .dataframe tbody tr th {\n",
              "        vertical-align: top;\n",
              "    }\n",
              "\n",
              "    .dataframe thead th {\n",
              "        text-align: right;\n",
              "    }\n",
              "</style>\n",
              "<table border=\"1\" class=\"dataframe\">\n",
              "  <thead>\n",
              "    <tr style=\"text-align: right;\">\n",
              "      <th></th>\n",
              "      <th>user_id</th>\n",
              "      <th>anime_id</th>\n",
              "      <th>rating</th>\n",
              "    </tr>\n",
              "  </thead>\n",
              "  <tbody>\n",
              "    <tr>\n",
              "      <th>0</th>\n",
              "      <td>1</td>\n",
              "      <td>20</td>\n",
              "      <td>NaN</td>\n",
              "    </tr>\n",
              "    <tr>\n",
              "      <th>1</th>\n",
              "      <td>1</td>\n",
              "      <td>24</td>\n",
              "      <td>NaN</td>\n",
              "    </tr>\n",
              "    <tr>\n",
              "      <th>2</th>\n",
              "      <td>1</td>\n",
              "      <td>79</td>\n",
              "      <td>NaN</td>\n",
              "    </tr>\n",
              "    <tr>\n",
              "      <th>3</th>\n",
              "      <td>1</td>\n",
              "      <td>226</td>\n",
              "      <td>NaN</td>\n",
              "    </tr>\n",
              "    <tr>\n",
              "      <th>4</th>\n",
              "      <td>1</td>\n",
              "      <td>241</td>\n",
              "      <td>NaN</td>\n",
              "    </tr>\n",
              "  </tbody>\n",
              "</table>\n",
              "</div>\n",
              "      <button class=\"colab-df-convert\" onclick=\"convertToInteractive('df-1558bf1f-29ec-42ba-8181-bc05dab743b8')\"\n",
              "              title=\"Convert this dataframe to an interactive table.\"\n",
              "              style=\"display:none;\">\n",
              "        \n",
              "  <svg xmlns=\"http://www.w3.org/2000/svg\" height=\"24px\"viewBox=\"0 0 24 24\"\n",
              "       width=\"24px\">\n",
              "    <path d=\"M0 0h24v24H0V0z\" fill=\"none\"/>\n",
              "    <path d=\"M18.56 5.44l.94 2.06.94-2.06 2.06-.94-2.06-.94-.94-2.06-.94 2.06-2.06.94zm-11 1L8.5 8.5l.94-2.06 2.06-.94-2.06-.94L8.5 2.5l-.94 2.06-2.06.94zm10 10l.94 2.06.94-2.06 2.06-.94-2.06-.94-.94-2.06-.94 2.06-2.06.94z\"/><path d=\"M17.41 7.96l-1.37-1.37c-.4-.4-.92-.59-1.43-.59-.52 0-1.04.2-1.43.59L10.3 9.45l-7.72 7.72c-.78.78-.78 2.05 0 2.83L4 21.41c.39.39.9.59 1.41.59.51 0 1.02-.2 1.41-.59l7.78-7.78 2.81-2.81c.8-.78.8-2.07 0-2.86zM5.41 20L4 18.59l7.72-7.72 1.47 1.35L5.41 20z\"/>\n",
              "  </svg>\n",
              "      </button>\n",
              "      \n",
              "  <style>\n",
              "    .colab-df-container {\n",
              "      display:flex;\n",
              "      flex-wrap:wrap;\n",
              "      gap: 12px;\n",
              "    }\n",
              "\n",
              "    .colab-df-convert {\n",
              "      background-color: #E8F0FE;\n",
              "      border: none;\n",
              "      border-radius: 50%;\n",
              "      cursor: pointer;\n",
              "      display: none;\n",
              "      fill: #1967D2;\n",
              "      height: 32px;\n",
              "      padding: 0 0 0 0;\n",
              "      width: 32px;\n",
              "    }\n",
              "\n",
              "    .colab-df-convert:hover {\n",
              "      background-color: #E2EBFA;\n",
              "      box-shadow: 0px 1px 2px rgba(60, 64, 67, 0.3), 0px 1px 3px 1px rgba(60, 64, 67, 0.15);\n",
              "      fill: #174EA6;\n",
              "    }\n",
              "\n",
              "    [theme=dark] .colab-df-convert {\n",
              "      background-color: #3B4455;\n",
              "      fill: #D2E3FC;\n",
              "    }\n",
              "\n",
              "    [theme=dark] .colab-df-convert:hover {\n",
              "      background-color: #434B5C;\n",
              "      box-shadow: 0px 1px 3px 1px rgba(0, 0, 0, 0.15);\n",
              "      filter: drop-shadow(0px 1px 2px rgba(0, 0, 0, 0.3));\n",
              "      fill: #FFFFFF;\n",
              "    }\n",
              "  </style>\n",
              "\n",
              "      <script>\n",
              "        const buttonEl =\n",
              "          document.querySelector('#df-1558bf1f-29ec-42ba-8181-bc05dab743b8 button.colab-df-convert');\n",
              "        buttonEl.style.display =\n",
              "          google.colab.kernel.accessAllowed ? 'block' : 'none';\n",
              "\n",
              "        async function convertToInteractive(key) {\n",
              "          const element = document.querySelector('#df-1558bf1f-29ec-42ba-8181-bc05dab743b8');\n",
              "          const dataTable =\n",
              "            await google.colab.kernel.invokeFunction('convertToInteractive',\n",
              "                                                     [key], {});\n",
              "          if (!dataTable) return;\n",
              "\n",
              "          const docLinkHtml = 'Like what you see? Visit the ' +\n",
              "            '<a target=\"_blank\" href=https://colab.research.google.com/notebooks/data_table.ipynb>data table notebook</a>'\n",
              "            + ' to learn more about interactive tables.';\n",
              "          element.innerHTML = '';\n",
              "          dataTable['output_type'] = 'display_data';\n",
              "          await google.colab.output.renderOutput(dataTable, element);\n",
              "          const docLink = document.createElement('div');\n",
              "          docLink.innerHTML = docLinkHtml;\n",
              "          element.appendChild(docLink);\n",
              "        }\n",
              "      </script>\n",
              "    </div>\n",
              "  </div>\n",
              "  "
            ]
          },
          "metadata": {},
          "execution_count": 4
        }
      ]
    },
    {
      "cell_type": "code",
      "source": [
        "merge_df = pd.merge(anime_df,rating_df,on=['anime_id','anime_id'])\n",
        "merge_df= merge_df[merge_df.user_id <= 20000]"
      ],
      "metadata": {
        "id": "TaK7PSexNyku"
      },
      "execution_count": 5,
      "outputs": []
    },
    {
      "cell_type": "code",
      "source": [
        "df_merged = merge_df[merge_df['rating_x'] != -1]"
      ],
      "metadata": {
        "id": "TZWwwdUGNyih"
      },
      "execution_count": 6,
      "outputs": []
    },
    {
      "cell_type": "code",
      "source": [
        "df_merged.shape"
      ],
      "metadata": {
        "colab": {
          "base_uri": "https://localhost:8080/"
        },
        "id": "ouB4wJMWNygK",
        "outputId": "c060d27e-7b60-4626-8100-3713fd1db773"
      },
      "execution_count": 7,
      "outputs": [
        {
          "output_type": "execute_result",
          "data": {
            "text/plain": [
              "(2065588, 9)"
            ]
          },
          "metadata": {},
          "execution_count": 7
        }
      ]
    },
    {
      "cell_type": "code",
      "source": [
        "df_merged_new = df_merged[(df_merged['type'] == 'TV')]\n",
        "df_merged_new.shape"
      ],
      "metadata": {
        "colab": {
          "base_uri": "https://localhost:8080/"
        },
        "id": "DUnCzDtNNydv",
        "outputId": "0a71d7c6-b1f3-4dc3-9ef0-496ec7cb02a5"
      },
      "execution_count": 8,
      "outputs": [
        {
          "output_type": "execute_result",
          "data": {
            "text/plain": [
              "(1412670, 9)"
            ]
          },
          "metadata": {},
          "execution_count": 8
        }
      ]
    },
    {
      "cell_type": "code",
      "source": [
        "df_merged_new = df_merged_new[['user_id', 'name', 'rating_x']]\n",
        "df_merged_new.shape"
      ],
      "metadata": {
        "colab": {
          "base_uri": "https://localhost:8080/"
        },
        "id": "HUzG47BcNybW",
        "outputId": "11ba20b2-ac58-43d8-d1fd-c273afb2d1bd"
      },
      "execution_count": 9,
      "outputs": [
        {
          "output_type": "execute_result",
          "data": {
            "text/plain": [
              "(1412670, 3)"
            ]
          },
          "metadata": {},
          "execution_count": 9
        }
      ]
    },
    {
      "cell_type": "code",
      "source": [
        "# Reading the dataset\n",
        "reader = Reader(rating_scale=(1, 10))\n",
        "data = Dataset.load_from_df(df_merged_new,reader)"
      ],
      "metadata": {
        "id": "DMDzPpXrNyY8"
      },
      "execution_count": 10,
      "outputs": []
    },
    {
      "cell_type": "code",
      "source": [
        "trainset, testset = train_test_split(data, test_size=0.25,random_state=10)"
      ],
      "metadata": {
        "id": "ijb3-_QmNyWk"
      },
      "execution_count": 11,
      "outputs": []
    },
    {
      "cell_type": "code",
      "source": [
        "# Algorithm 1 - KNNWithMeans\n",
        "\n",
        "sim_options = {'name': ['cosine','pearson_baseline'],\n",
        "               'user_based': [False]}\n",
        "param_grid = {'sim_options': sim_options,\n",
        "              'k': [10, 50]}\n",
        "\n",
        "gs_knn = GridSearchCV(KNNWithMeans, param_grid, measures = ['rmse'], cv = 3, return_train_measures = True)\n",
        "gs_knn.fit(data)"
      ],
      "metadata": {
        "colab": {
          "base_uri": "https://localhost:8080/"
        },
        "id": "Di9ExAXpNyP_",
        "outputId": "96fdae85-1c85-4309-8673-bea55ea85a9e"
      },
      "execution_count": 12,
      "outputs": [
        {
          "output_type": "stream",
          "name": "stdout",
          "text": [
            "Computing the cosine similarity matrix...\n",
            "Done computing similarity matrix.\n",
            "Computing the cosine similarity matrix...\n",
            "Done computing similarity matrix.\n",
            "Computing the cosine similarity matrix...\n",
            "Done computing similarity matrix.\n",
            "Computing the cosine similarity matrix...\n",
            "Done computing similarity matrix.\n",
            "Computing the cosine similarity matrix...\n",
            "Done computing similarity matrix.\n",
            "Computing the cosine similarity matrix...\n",
            "Done computing similarity matrix.\n",
            "Estimating biases using als...\n",
            "Computing the pearson_baseline similarity matrix...\n",
            "Done computing similarity matrix.\n",
            "Estimating biases using als...\n",
            "Computing the pearson_baseline similarity matrix...\n",
            "Done computing similarity matrix.\n",
            "Estimating biases using als...\n",
            "Computing the pearson_baseline similarity matrix...\n",
            "Done computing similarity matrix.\n",
            "Estimating biases using als...\n",
            "Computing the pearson_baseline similarity matrix...\n",
            "Done computing similarity matrix.\n",
            "Estimating biases using als...\n",
            "Computing the pearson_baseline similarity matrix...\n",
            "Done computing similarity matrix.\n",
            "Estimating biases using als...\n",
            "Computing the pearson_baseline similarity matrix...\n",
            "Done computing similarity matrix.\n"
          ]
        }
      ]
    },
    {
      "cell_type": "code",
      "source": [
        "gs_knn.cv_results"
      ],
      "metadata": {
        "colab": {
          "base_uri": "https://localhost:8080/"
        },
        "id": "7V_4G3YGOWjS",
        "outputId": "1736924b-1654-4658-9bc8-4f64506f19b7"
      },
      "execution_count": 13,
      "outputs": [
        {
          "output_type": "execute_result",
          "data": {
            "text/plain": [
              "{'split0_test_rmse': array([0.02930437, 0.02930437, 0.02930437, 0.02930437]),\n",
              " 'split0_train_rmse': array([1.67412070e-15, 1.58227821e-15, 1.44665411e-15, 1.53033091e-15]),\n",
              " 'split1_test_rmse': array([0.02879989, 0.02879989, 0.02879989, 0.02879989]),\n",
              " 'split1_train_rmse': array([1.69487877e-15, 1.61350139e-15, 1.46290003e-15, 1.55682743e-15]),\n",
              " 'split2_test_rmse': array([0.02806065, 0.02806065, 0.02806065, 0.02806065]),\n",
              " 'split2_train_rmse': array([1.72162704e-15, 1.63596810e-15, 1.49345622e-15, 1.58197928e-15]),\n",
              " 'mean_test_rmse': array([0.02872164, 0.02872164, 0.02872164, 0.02872164]),\n",
              " 'std_test_rmse': array([0.00051075, 0.00051075, 0.00051075, 0.00051075]),\n",
              " 'mean_train_rmse': array([1.69687550e-15, 1.61058257e-15, 1.46767012e-15, 1.55637921e-15]),\n",
              " 'std_train_rmse': array([1.94457054e-17, 2.20157618e-17, 1.94023142e-17, 2.10877420e-17]),\n",
              " 'rank_test_rmse': array([1, 2, 3, 4]),\n",
              " 'mean_fit_time': array([ 9.38624843,  9.68170929, 12.68529884, 12.45902753]),\n",
              " 'std_fit_time': array([0.56357107, 0.4307617 , 0.11396698, 0.2985537 ]),\n",
              " 'mean_test_time': array([ 77.31064073, 106.08638533,  76.13173683, 101.42332323]),\n",
              " 'std_test_time': array([0.82818547, 6.11021886, 1.82952279, 1.50484299]),\n",
              " 'params': [{'sim_options': {'name': 'cosine', 'user_based': False}, 'k': 10},\n",
              "  {'sim_options': {'name': 'cosine', 'user_based': False}, 'k': 50},\n",
              "  {'sim_options': {'name': 'pearson_baseline', 'user_based': False}, 'k': 10},\n",
              "  {'sim_options': {'name': 'pearson_baseline', 'user_based': False}, 'k': 50}],\n",
              " 'param_sim_options': [{'name': 'cosine', 'user_based': False},\n",
              "  {'name': 'cosine', 'user_based': False},\n",
              "  {'name': 'pearson_baseline', 'user_based': False},\n",
              "  {'name': 'pearson_baseline', 'user_based': False}],\n",
              " 'param_k': [10, 50, 10, 50]}"
            ]
          },
          "metadata": {},
          "execution_count": 13
        }
      ]
    },
    {
      "cell_type": "code",
      "source": [
        "# Getting best RMSE for training data\n",
        "\n",
        "print(\"Best RMSE for train set:\")\n",
        "gs_knn.best_score['rmse']"
      ],
      "metadata": {
        "colab": {
          "base_uri": "https://localhost:8080/"
        },
        "id": "3AI0l-6AOWf9",
        "outputId": "05015933-0270-406d-db13-a913cf8f835e"
      },
      "execution_count": 14,
      "outputs": [
        {
          "output_type": "stream",
          "name": "stdout",
          "text": [
            "Best RMSE for train set:\n"
          ]
        },
        {
          "output_type": "execute_result",
          "data": {
            "text/plain": [
              "0.028721637947821774"
            ]
          },
          "metadata": {},
          "execution_count": 14
        }
      ]
    },
    {
      "cell_type": "code",
      "source": [
        "# Getting best parameters for algorithm\n",
        "\n",
        "gs_knn.best_params['rmse']"
      ],
      "metadata": {
        "colab": {
          "base_uri": "https://localhost:8080/"
        },
        "id": "GnBgERnVOWds",
        "outputId": "c78ac5eb-eed7-469c-8ce7-8d915cfad413"
      },
      "execution_count": 15,
      "outputs": [
        {
          "output_type": "execute_result",
          "data": {
            "text/plain": [
              "{'sim_options': {'name': 'cosine', 'user_based': False}, 'k': 10}"
            ]
          },
          "metadata": {},
          "execution_count": 15
        }
      ]
    },
    {
      "cell_type": "code",
      "source": [
        "# Using best parameters to find RMSE by fitting on trainset\n",
        "\n",
        "algo_knn = KNNWithMeans(k=10, sim_options={'name': 'cosine', 'user_based': False})\n",
        "algo_knn.fit(trainset)"
      ],
      "metadata": {
        "colab": {
          "base_uri": "https://localhost:8080/"
        },
        "id": "LNTTotjgOZvN",
        "outputId": "ecd1454d-b482-4321-9a6b-f52ab28ba4df"
      },
      "execution_count": 16,
      "outputs": [
        {
          "output_type": "stream",
          "name": "stdout",
          "text": [
            "Computing the cosine similarity matrix...\n",
            "Done computing similarity matrix.\n"
          ]
        },
        {
          "output_type": "execute_result",
          "data": {
            "text/plain": [
              "<surprise.prediction_algorithms.knns.KNNWithMeans at 0x7f0c6f11df70>"
            ]
          },
          "metadata": {},
          "execution_count": 16
        }
      ]
    },
    {
      "cell_type": "code",
      "source": [
        "# run the trained model against the testset\n",
        "test_pred_knn = algo_knn.test(testset)"
      ],
      "metadata": {
        "id": "iNH1VJ3oOZr1"
      },
      "execution_count": 17,
      "outputs": []
    },
    {
      "cell_type": "code",
      "source": [
        "# get RMSE for test data\n",
        "print(\"Item-based Model : Test Set\")\n",
        "accuracy.rmse(test_pred_knn, verbose=True)"
      ],
      "metadata": {
        "colab": {
          "base_uri": "https://localhost:8080/"
        },
        "id": "1y33H62XOZqZ",
        "outputId": "1672b13a-1688-40f1-cb9a-9203488a6e66"
      },
      "execution_count": 18,
      "outputs": [
        {
          "output_type": "stream",
          "name": "stdout",
          "text": [
            "Item-based Model : Test Set\n",
            "RMSE: 0.0257\n"
          ]
        },
        {
          "output_type": "execute_result",
          "data": {
            "text/plain": [
              "0.02566448129351555"
            ]
          },
          "metadata": {},
          "execution_count": 18
        }
      ]
    },
    {
      "cell_type": "code",
      "source": [
        "test_pred_knn[:10]"
      ],
      "metadata": {
        "colab": {
          "base_uri": "https://localhost:8080/"
        },
        "id": "4zPMAOpKOZoj",
        "outputId": "e09aff2b-2262-4271-e1c9-13be4e749c3f"
      },
      "execution_count": 19,
      "outputs": [
        {
          "output_type": "execute_result",
          "data": {
            "text/plain": [
              "[Prediction(uid=12588, iid='Ai no Wakakusa Yama Monogatari', r_ui=6.45, est=6.45, details={'actual_k': 10, 'was_impossible': False}),\n",
              " Prediction(uid=11956, iid='Kamigami no Asobi', r_ui=7.32, est=7.3199999999999985, details={'actual_k': 10, 'was_impossible': False}),\n",
              " Prediction(uid=1788, iid='Kantai Collection: KanColle', r_ui=7.04, est=7.040000000000003, details={'actual_k': 10, 'was_impossible': False}),\n",
              " Prediction(uid=4453, iid='Oniichan dakedo Ai Sae Areba Kankeinai yo ne!', r_ui=6.78, est=6.78, details={'actual_k': 10, 'was_impossible': False}),\n",
              " Prediction(uid=10049, iid='Senyuu.', r_ui=7.49, est=7.49, details={'actual_k': 10, 'was_impossible': False}),\n",
              " Prediction(uid=7543, iid='Shakugan no Shana II (Second)', r_ui=7.79, est=7.790000000000002, details={'actual_k': 10, 'was_impossible': False}),\n",
              " Prediction(uid=19994, iid='Mahoraba: Heartful days', r_ui=7.45, est=7.450000000000001, details={'actual_k': 10, 'was_impossible': False}),\n",
              " Prediction(uid=3391, iid='Kotoura-san', r_ui=7.36, est=7.36, details={'actual_k': 10, 'was_impossible': False}),\n",
              " Prediction(uid=11407, iid='Otogi Story Tenshi no Shippo', r_ui=6.66, est=6.659999999999999, details={'actual_k': 10, 'was_impossible': False}),\n",
              " Prediction(uid=7932, iid='Sankarea', r_ui=7.53, est=7.53, details={'actual_k': 10, 'was_impossible': False})]"
            ]
          },
          "metadata": {},
          "execution_count": 19
        }
      ]
    },
    {
      "cell_type": "code",
      "source": [
        "algo_knn.predict(3,\"Naruto\").est"
      ],
      "metadata": {
        "colab": {
          "base_uri": "https://localhost:8080/"
        },
        "id": "TH9f8jfFOelV",
        "outputId": "f6f288bb-430a-4f30-8236-9afdc244af06"
      },
      "execution_count": 20,
      "outputs": [
        {
          "output_type": "execute_result",
          "data": {
            "text/plain": [
              "7.8100000000000005"
            ]
          },
          "metadata": {},
          "execution_count": 20
        }
      ]
    },
    {
      "cell_type": "code",
      "source": [
        "#SVD\n",
        "from surprise import SVD\n",
        "param_grid = {\n",
        "    'n_epochs': [2, 4],\n",
        "    'lr_all': [0.002, 0.005],\n",
        "    'reg_all': [0.2, 0.4]\n",
        "}\n",
        "\n",
        "gs3= GridSearchCV(SVD , param_grid, measures = ['rmse'], cv = 3)\n",
        "gs3.fit(data)"
      ],
      "metadata": {
        "id": "ZqOrjqxMOHs3"
      },
      "execution_count": 21,
      "outputs": []
    },
    {
      "cell_type": "code",
      "source": [
        "print(gs3.best_score['rmse'])\n",
        "print(gs3.best_params['rmse'])"
      ],
      "metadata": {
        "colab": {
          "base_uri": "https://localhost:8080/"
        },
        "id": "wysmbU8aOHpa",
        "outputId": "ca8ec0f1-6525-408f-dd8c-7d93ae9f32f2"
      },
      "execution_count": 22,
      "outputs": [
        {
          "output_type": "stream",
          "name": "stdout",
          "text": [
            "0.15026639566962297\n",
            "{'n_epochs': 4, 'lr_all': 0.005, 'reg_all': 0.2}\n"
          ]
        }
      ]
    },
    {
      "cell_type": "code",
      "source": [
        "svd_algo = SVD( n_epochs = 4, lr_all = 0.005, reg_all = 0.2)\n",
        "pred_svd = svd_algo.fit(trainset).test(testset)"
      ],
      "metadata": {
        "id": "X3LiXZvTOHnY"
      },
      "execution_count": 23,
      "outputs": []
    },
    {
      "cell_type": "code",
      "source": [
        "print('RMSE on test set:')\n",
        "accuracy.rmse(pred_svd, verbose=True)"
      ],
      "metadata": {
        "colab": {
          "base_uri": "https://localhost:8080/"
        },
        "id": "tU93zU1wOHlT",
        "outputId": "1a8762ec-712b-4914-816c-07936522b8bf"
      },
      "execution_count": 24,
      "outputs": [
        {
          "output_type": "stream",
          "name": "stdout",
          "text": [
            "RMSE on test set:\n",
            "RMSE: 0.1468\n"
          ]
        },
        {
          "output_type": "execute_result",
          "data": {
            "text/plain": [
              "0.14678720174569504"
            ]
          },
          "metadata": {},
          "execution_count": 24
        }
      ]
    },
    {
      "cell_type": "code",
      "source": [
        "svd_algo.predict(3, 'Naruto').est"
      ],
      "metadata": {
        "colab": {
          "base_uri": "https://localhost:8080/"
        },
        "id": "9FTL5td1OHjL",
        "outputId": "e84350fc-7fc5-4b82-b807-a7a35241b3fd"
      },
      "execution_count": 25,
      "outputs": [
        {
          "output_type": "execute_result",
          "data": {
            "text/plain": [
              "7.799398257027378"
            ]
          },
          "metadata": {},
          "execution_count": 25
        }
      ]
    }
  ]
}